{
 "cells": [
  {
   "cell_type": "code",
   "execution_count": 1,
   "id": "2c84d2da-91e4-4aba-a0af-6066da01a516",
   "metadata": {},
   "outputs": [
    {
     "name": "stdout",
     "output_type": "stream",
     "text": [
      "{'c': 3, 'a': 3}\n"
     ]
    },
    {
     "data": {
      "text/plain": [
       "'cccaaa'"
      ]
     },
     "execution_count": 1,
     "metadata": {},
     "output_type": "execute_result"
    }
   ],
   "source": [
    "s = \"aaaccc\"\n",
    "def frequencySort(s):\n",
    "    s_done=s[::-1]\n",
    "    dict= {}\n",
    "    new_string=\"\"\n",
    "    for i in s_done:\n",
    "        if i not in dict.keys():\n",
    "            dict[i]=1\n",
    "        else:\n",
    "            dict[i]+=1\n",
    "    sorted_dict= sorted(dict.items(), key=lambda item: item[1], reverse=True)\n",
    "    # Create an empty dictionary\n",
    "    dictionary = {}\n",
    "    \n",
    "    # Loop through the list of tuples and add each key-value pair to the dictionary\n",
    "    for key, value in sorted_dict:\n",
    "        dictionary[key] = value\n",
    "    print(dictionary)\n",
    "    for k, v in dictionary.items():\n",
    "        for i in range(0, v):\n",
    "            new_string+=k\n",
    "    return new_string\n",
    "frequencySort(s)"
   ]
  },
  {
   "cell_type": "code",
   "execution_count": 2,
   "id": "199881ce-ab37-45ae-b4e7-dd13578d1a7d",
   "metadata": {},
   "outputs": [
    {
     "data": {
      "text/plain": [
       "-321"
      ]
     },
     "execution_count": 2,
     "metadata": {},
     "output_type": "execute_result"
    }
   ],
   "source": [
    "x = -123\n",
    "def reverse(x):\n",
    "    sign= 1 if x>=0 else -1\n",
    "    abs_x= abs(x)\n",
    "    reversed_num = 0\n",
    "    while abs_x != 0:\n",
    "        digit = abs_x % 10\n",
    "        reversed_num = reversed_num * 10 + digit\n",
    "        abs_x //= 10\n",
    "    reversed_num= sign * reversed_num\n",
    "    if reversed_num>= -2 ** 31-1 and reversed_num<=2 ** 31-1:\n",
    "        if reversed_num>=0:\n",
    "            return reversed_num\n",
    "        else:\n",
    "            return reversed_num\n",
    "    else:\n",
    "        return 0\n",
    "\n",
    "reverse(x)   "
   ]
  },
  {
   "cell_type": "code",
   "execution_count": null,
   "id": "56698125-e42c-481d-ba8c-c1b19ece251f",
   "metadata": {},
   "outputs": [],
   "source": []
  }
 ],
 "metadata": {
  "kernelspec": {
   "display_name": "Python 3 (ipykernel)",
   "language": "python",
   "name": "python3"
  },
  "language_info": {
   "codemirror_mode": {
    "name": "ipython",
    "version": 3
   },
   "file_extension": ".py",
   "mimetype": "text/x-python",
   "name": "python",
   "nbconvert_exporter": "python",
   "pygments_lexer": "ipython3",
   "version": "3.11.7"
  }
 },
 "nbformat": 4,
 "nbformat_minor": 5
}
